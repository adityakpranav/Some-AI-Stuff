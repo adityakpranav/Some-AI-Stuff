{
 "cells": [
  {
   "cell_type": "code",
   "execution_count": 1,
   "metadata": {
    "_cell_guid": "b1076dfc-b9ad-4769-8c92-a6c4dae69d19",
    "_uuid": "8f2839f25d086af736a60e9eeb907d3b93b6e0e5",
    "collapsed": true
   },
   "outputs": [],
   "source": [
    "# This Python 3 environment comes with many helpful analytics libraries installed\n",
    "# It is defined by the kaggle/python Docker image: https://github.com/kaggle/docker-python\n",
    "# For example, here's several helpful packages to load\n",
    "\n",
    "import numpy as np # linear algebra\n",
    "import pandas as pd # data processing, CSV file I/O (e.g. pd.read_csv)\n",
    "\n",
    "# Input data files are available in the read-only \"../input/\" directory\n",
    "# For example, running this (by clicking run or pressing Shift+Enter) will list all files under the input directory\n",
    "\n",
    "import os\n",
    "for dirname, _, filenames in os.walk('/kaggle/input'):\n",
    "    for filename in filenames:\n",
    "        print(os.path.join(dirname, filename))\n",
    "\n",
    "# You can write up to 5GB to the current directory (/kaggle/working/) that gets preserved as output when you create a version using \"Save & Run All\" \n",
    "# You can also write temporary files to /kaggle/temp/, but they won't be saved outside of the current session"
   ]
  },
  {
   "cell_type": "markdown",
   "metadata": {},
   "source": [
    "# 1)GRADED"
   ]
  },
  {
   "cell_type": "code",
   "execution_count": 4,
   "metadata": {
    "_cell_guid": "79c7e3d0-c299-4dcb-8224-4455121ee9b0",
    "_uuid": "d629ff2d2480ee46fbb7e2d37f6b5fab8052498a"
   },
   "outputs": [
    {
     "name": "stdout",
     "output_type": "stream",
     "text": [
      "\n",
      " a).Iterate through the list x \n",
      "2\n",
      "4\n",
      "\n",
      " b).print a single string of the form 'company, ceo'\n",
      "\n",
      "CEO: Microsoft, Name: Satya Nadella\n",
      "CEO: Amazon, Name: Jeff Bezos\n",
      "CEO: Apple, Name: Tim Cook\n"
     ]
    }
   ],
   "source": [
    "\n",
    "\n",
    "# (a) Using a for loop, iterate through the list x\n",
    "# and print an item if its divisible by 2 and less than 6\n",
    "# (b) Using a for loop, iterate through the dictionary y\n",
    "# and print a single string of the form \"company, ceo\"\n",
    "# e.g. \"CEO: Apple, Name: Tim Cook\" will be the third entry\n",
    "x = [1, 2, 3, 4, 5, 6, 7, 8, 9, 10]\n",
    "y = {\n",
    "'Satya Nadella': 'Microsoft',\n",
    "'Jeff Bezos': 'Amazon',\n",
    "'Tim Cook': 'Apple'\n",
    "}\n",
    "\n",
    "print(\"\\n a).Iterate through the list x \",*[i  for i in x if(i%2==0 and i<6)],sep='\\n')\n",
    "\n",
    "print(\"\\n b).print a single string of the form 'company, ceo'\\n\",*['CEO: %s, Name: %s'%(i[1],i[0]) for i in y.items()],sep='\\n')"
   ]
  },
  {
   "cell_type": "markdown",
   "metadata": {},
   "source": [
    "# 2)GRADED\n"
   ]
  },
  {
   "cell_type": "code",
   "execution_count": 5,
   "metadata": {},
   "outputs": [
    {
     "name": "stdout",
     "output_type": "stream",
     "text": [
      "Enter num 1:4\n",
      "Enter num 2:3\n",
      "\n",
      " a).sub_number: 1\n",
      "Enter num 1:3\n",
      "Enter num 2:0\n",
      "\n",
      " b).mult_numbers:  0\n"
     ]
    }
   ],
   "source": [
    "# Provided below are functions that are completely defined (add_numbers),\n",
    "# partially defined (sub_numbers) and not defined (mult_numbers)\n",
    "# (a) Complete sub_numbers so that it return difference of two numbers\n",
    "# (b) Write a function called mult_numbers to multiply two numbers\n",
    "sub_number = lambda num1,num2:abs(num1-num2)\n",
    "mult_numbers = lambda num1,num2:num1*num2\n",
    "\n",
    "print(\"\\n a).sub_number:\",sub_number(int(input(\"Enter num 1:\")),int(input(\"Enter num 2:\"))))\n",
    "print(\"\\n b).mult_numbers: \",mult_numbers(int(input(\"Enter num 1:\")),int(input(\"Enter num 2:\"))))\n"
   ]
  },
  {
   "cell_type": "markdown",
   "metadata": {},
   "source": [
    "# 3)GRADED"
   ]
  },
  {
   "cell_type": "code",
   "execution_count": 6,
   "metadata": {},
   "outputs": [
    {
     "name": "stdout",
     "output_type": "stream",
     "text": [
      "\n",
      " arr :\n",
      " [[ 0  1  2  3  4]\n",
      " [ 5  6  7  8  9]\n",
      " [10 11 12 13 14]]\n",
      "\n",
      " a). Determine the shape, number of dimensions and type of elements in the numpy array arr \n",
      " shape: (3, 5) ,number of dimensions: 2, type: int32\n",
      "\n",
      " b). Sum:  105\n",
      "\n",
      " c). Mean:  7.0\n",
      "\n",
      " d). Zeros:\n",
      " [[0. 0. 0. 0. 0.]\n",
      " [0. 0. 0. 0. 0.]\n",
      " [0. 0. 0. 0. 0.]]\n",
      "\n",
      " e). Ones:\n",
      " [[1. 1. 1. 1. 1.]\n",
      " [1. 1. 1. 1. 1.]\n",
      " [1. 1. 1. 1. 1.]]\n",
      "\n",
      " f). Square:\n",
      " [[  0   1   4   9  16]\n",
      " [ 25  36  49  64  81]\n",
      " [100 121 144 169 196]]\n",
      "\n",
      " g). Multiplication:\n",
      " [[ 30  80 130]\n",
      " [ 80 255 430]\n",
      " [130 430 730]]\n"
     ]
    }
   ],
   "source": [
    "\n",
    "# (a) Determine the shape, number of dimensions and type of\n",
    "# elements in the numpy array arr\n",
    "# (b) Determine the sum of elements in arr\n",
    "# (c) Determine the mean of elements in arr\n",
    "# (d) Create an array of the same shape as arr but filled with zeros\n",
    "# (e) Create an array of the same shape as arr but filled with ones\n",
    "# (f) Create an array of the same shape as arr but where all elements are squared values\n",
    "# (g) Create an array result of shape 3*3 resulting from multiplication of arr with transpose(arr). Hint: use np.dot\n",
    "arr = np.arange(15).reshape(3, 5)\n",
    "print(\"\\n arr :\\n\",arr)\n",
    "print(\"\\n a). Determine the shape, number of dimensions and type of elements in the numpy array arr \\n shape: %s ,number of dimensions: %s, type: %s\"%(arr.shape,arr.ndim,arr.dtype))\n",
    "print(\"\\n b). Sum: \",np.sum(arr))\n",
    "print(\"\\n c). Mean: \",np.mean(arr))\n",
    "print(\"\\n d). Zeros:\\n\",np.zeros(arr.shape))\n",
    "print(\"\\n e). Ones:\\n\",np.ones(arr.shape))\n",
    "print(\"\\n f). Square:\\n\",np.square(arr))\n",
    "print(\"\\n g). Multiplication:\\n\",np.dot(arr,arr.T))\n",
    "\n",
    "\n"
   ]
  },
  {
   "cell_type": "markdown",
   "metadata": {},
   "source": [
    "# 4)GRADED"
   ]
  },
  {
   "cell_type": "code",
   "execution_count": 7,
   "metadata": {},
   "outputs": [
    {
     "name": "stdout",
     "output_type": "stream",
     "text": [
      "   Id  SepalLengthCm  SepalWidthCm  PetalLengthCm  PetalWidthCm      Species\n",
      "0   1            5.1           3.5            1.4           0.2  Iris-setosa\n",
      "1   2            4.9           3.0            1.4           0.2  Iris-setosa\n",
      "2   3            4.7           3.2            1.3           0.2  Iris-setosa\n",
      "3   4            4.6           3.1            1.5           0.2  Iris-setosa\n",
      "4   5            5.0           3.6            1.4           0.2  Iris-setosa\n",
      "5   6            5.4           3.9            1.7           0.4  Iris-setosa\n",
      "6   7            4.6           3.4            1.4           0.3  Iris-setosa\n",
      "7   8            5.0           3.4            1.5           0.2  Iris-setosa\n",
      "8   9            4.4           2.9            1.4           0.2  Iris-setosa\n",
      "9  10            4.9           3.1            1.5           0.1  Iris-setosa\n",
      "\n",
      " a). Shape: (150, 6)\n",
      "\n",
      " b). Columns:  Id, SepalLengthCm, SepalWidthCm, PetalLengthCm, PetalWidthCm, Species,\n",
      "\n",
      " c). 3rd Element:\n",
      " Id                         3\n",
      "SepalLengthCm            4.7\n",
      "SepalWidthCm             3.2\n",
      "PetalLengthCm            1.3\n",
      "PetalWidthCm             0.2\n",
      "Species          Iris-setosa\n",
      "Name: 2, dtype: object\n",
      "\n",
      " d). average of 'petal_width' where species is 'virginica' : 2.026\n",
      "\n",
      " e). average of 'sepal_width' where species is 'setosa' : 4.4\n",
      "\n",
      " f). average value of sepal_length:  5.843333333333335\n",
      "\n",
      " g). average value of sepal_width:  4.4\n",
      "\n",
      " h). average value of petal_width:  0.1\n"
     ]
    }
   ],
   "source": [
    "\n",
    "# The following piece of code creates a DataFrame\n",
    "# (a) Determine the shape of the dataframe\n",
    "\n",
    "# (b) Print out all the columns of the dataframe\n",
    "# (c) Print the 3rd element of the dataframe\n",
    "\n",
    "# (d) Find the average of 'petal_width' where species is 'virginica'\n",
    "# (e) Find the maximum of 'sepal_width' where species is 'setosa'\n",
    "\n",
    "# (f): What is the average value of sepal_length\n",
    "# (g): What is the maximum value of sepal_width\n",
    "# (h): What is the minimum value of petal_width\n",
    "\n",
    "df = pd.read_csv('datasets_19_420_Iris.csv')\n",
    "print(df.head(10))\n",
    "print(\"\\n a). Shape:\",df.shape)\n",
    "print(\"\\n b). Columns: \",*[i+',' for i in df.columns])\n",
    "print(\"\\n c). 3rd Element:\\n\",df.iloc[2])\n",
    "print(\"\\n d). average of 'petal_width' where species is 'virginica' :\",df.loc[df.Species=='Iris-virginica'][\"PetalWidthCm\"].mean())\n",
    "print(\"\\n e). average of 'sepal_width' where species is 'setosa' :\",df.loc[df.Species=='Iris-setosa'][\"SepalWidthCm\"].max())\n",
    "print(\"\\n f). average value of sepal_length: \",df['SepalLengthCm'].mean())\n",
    "print(\"\\n g). average value of sepal_width: \",df['SepalWidthCm'].max())\n",
    "print(\"\\n h). average value of petal_width: \",df['PetalWidthCm'].min())\n"
   ]
  }
 ],
 "metadata": {
  "kernelspec": {
   "display_name": "Python 3",
   "language": "python",
   "name": "python3"
  },
  "language_info": {
   "codemirror_mode": {
    "name": "ipython",
    "version": 3
   },
   "file_extension": ".py",
   "mimetype": "text/x-python",
   "name": "python",
   "nbconvert_exporter": "python",
   "pygments_lexer": "ipython3",
   "version": "3.6.1"
  }
 },
 "nbformat": 4,
 "nbformat_minor": 4
}
