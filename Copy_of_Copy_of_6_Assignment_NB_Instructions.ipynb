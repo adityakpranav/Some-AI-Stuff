{
  "nbformat": 4,
  "nbformat_minor": 0,
  "metadata": {
    "colab": {
      "name": "Copy of Copy of 6_Assignment_NB_Instructions.ipynb",
      "provenance": [],
      "collapsed_sections": [],
      "include_colab_link": true
    },
    "language_info": {
      "codemirror_mode": {
        "name": "ipython",
        "version": 3
      },
      "file_extension": ".py",
      "mimetype": "text/x-python",
      "name": "python",
      "nbconvert_exporter": "python",
      "pygments_lexer": "ipython3",
      "version": "3.6.8"
    },
    "kernelspec": {
      "display_name": "Python 3",
      "language": "python",
      "name": "python3"
    }
  },
  "cells": [
    {
      "cell_type": "markdown",
      "metadata": {
        "id": "view-in-github",
        "colab_type": "text"
      },
      "source": [
        "<a href=\"https://colab.research.google.com/github/adityakpranav/Some-AI-Stuff/blob/master/Copy_of_Copy_of_6_Assignment_NB_Instructions.ipynb\" target=\"_parent\"><img src=\"https://colab.research.google.com/assets/colab-badge.svg\" alt=\"Open In Colab\"/></a>"
      ]
    },
    {
      "cell_type": "markdown",
      "metadata": {
        "id": "Dnubs-Nnb3cw",
        "colab_type": "text"
      },
      "source": [
        "# Assignment 6: Apply NB"
      ]
    },
    {
      "cell_type": "code",
      "metadata": {
        "id": "F1htp84jBOK4",
        "colab_type": "code",
        "colab": {
          "base_uri": "https://localhost:8080/",
          "height": 149
        },
        "outputId": "ec605ab8-f17c-4b19-c6b2-da0147ceeb65"
      },
      "source": [
        "from google.colab import drive\n",
        "drive.mount('/gdrive')\n",
        "%cd /gdrive\n"
      ],
      "execution_count": 1,
      "outputs": [
        {
          "output_type": "stream",
          "text": [
            "Go to this URL in a browser: https://accounts.google.com/o/oauth2/auth?client_id=947318989803-6bn6qk8qdgf4n4g3pfee6491hc0brc4i.apps.googleusercontent.com&redirect_uri=urn%3aietf%3awg%3aoauth%3a2.0%3aoob&scope=email%20https%3a%2f%2fwww.googleapis.com%2fauth%2fdocs.test%20https%3a%2f%2fwww.googleapis.com%2fauth%2fdrive%20https%3a%2f%2fwww.googleapis.com%2fauth%2fdrive.photos.readonly%20https%3a%2f%2fwww.googleapis.com%2fauth%2fpeopleapi.readonly&response_type=code\n",
            "\n",
            "Enter your authorization code:\n",
            "··········\n",
            "Mounted at /gdrive\n",
            "/gdrive\n"
          ],
          "name": "stdout"
        }
      ]
    },
    {
      "cell_type": "markdown",
      "metadata": {
        "id": "12krXa2pb3c1",
        "colab_type": "text"
      },
      "source": [
        "<ol>\n",
        "    <li><strong>Apply Multinomial NB on these feature sets</strong>\n",
        "        <ul>\n",
        "            <li><font color='red'>Set 1</font>: categorical, numerical features + preprocessed_eassay (BOW)</li>\n",
        "            <li><font color='red'>Set 2</font>: categorical, numerical features + preprocessed_eassay (TFIDF)</li>\n",
        "        </ul>\n",
        "    </li>\n",
        "    <li><strong>The hyper paramter tuning(find best alpha:smoothing parameter)</strong>\n",
        "        <ul>\n",
        "    <li>Find the best hyper parameter which will give the maximum <a href='https://www.appliedaicourse.com/course/applied-ai-course-online/lessons/receiver-operating-characteristic-curve-roc-curve-and-auc-1/'>AUC</a> value</li>\n",
        "    <li>find the best hyper paramter using k-fold cross validation(use GridsearchCV or RandomsearchCV)/simple cross validation data (write for loop to iterate over hyper parameter values)</li>\n",
        "    <li></li>\n",
        "        </ul>\n",
        "    </li>\n",
        "    <li>\n",
        "    <strong>Representation of results</strong>\n",
        "        <ul>\n",
        "    <li>You need to plot the performance of model both on train data and cross validation data for each hyper parameter, like shown in the figure\n",
        "    <img src='https://i.imgur.com/hUv6aEy.jpg' width=300px></li>\n",
        "    <li>Once after you found the best hyper parameter, you need to train your model with it, and find the AUC on test data and plot the ROC curve on both train and test.\n",
        "    <img src='https://i.imgur.com/wMQDTFe.jpg' width=300px></li>\n",
        "    <li>Along with plotting ROC curve, you need to print the <a href='https://www.appliedaicourse.com/course/applied-ai-course-online/lessons/confusion-matrix-tpr-fpr-fnr-tnr-1/'>confusion matrix</a> with predicted and original labels of test data points\n",
        "    <img src='https://i.imgur.com/IdN5Ctv.png' width=300px></li>\n",
        "        </ul>\n",
        "    </li>\n",
        "    <li>\n",
        "fine the top 20 features from either from feature <font color='red'>Set 1</font> or feature <font color='red'>Set 2</font> using absolute values of `feature_log_prob_ ` parameter of `MultinomialNB` \n",
        "(https://scikit-learn.org/stable/modules/generated/sklearn.naive_bayes.MultinomialNB.html) and print their corresponding feature names\n",
        "    </li>\n",
        "    <li>You need to summarize the results at the end of the notebook, summarize it in the table format\n",
        "        <img src='http://i.imgur.com/YVpIGGE.jpg' width=400px>\n",
        "    </li>\n",
        "</ol>"
      ]
    },
    {
      "cell_type": "markdown",
      "metadata": {
        "id": "inzYCIaib3c3",
        "colab_type": "text"
      },
      "source": [
        "<h1>2. Naive Bayes </h1>"
      ]
    },
    {
      "cell_type": "code",
      "metadata": {
        "id": "nbHvOHmqhEIn",
        "colab_type": "code",
        "colab": {}
      },
      "source": [
        "import warnings\n",
        "from sys import getsizeof\n",
        "warnings.filterwarnings(\"ignore\")\n",
        "import pandas as pd\n",
        "import numpy as np\n",
        "import pickle\n",
        "\n",
        "from tqdm import tqdm\n",
        "\n",
        "from sklearn.feature_extraction.text import CountVectorizer\n",
        "from sklearn.feature_extraction.text import TfidfVectorizer\n",
        "# init\n",
        "\n",
        "from sklearn.model_selection import GridSearchCV\n",
        "from scipy.stats import randint as sp_randint\n",
        "from sklearn.model_selection import RandomizedSearchCV\n",
        "from sklearn.naive_bayes import MultinomialNB\n",
        "from matplotlib import pyplot as plt\n",
        "from scipy.sparse import coo_matrix, hstack ,csr_matrix\n",
        "\n",
        "from sklearn.metrics import roc_curve, auc\n"
      ],
      "execution_count": 2,
      "outputs": []
    },
    {
      "cell_type": "markdown",
      "metadata": {
        "id": "FYqCIxzFb3c5",
        "colab_type": "text"
      },
      "source": [
        "## 1.1 Loading Data"
      ]
    },
    {
      "cell_type": "code",
      "metadata": {
        "id": "YwdemGTrihkw",
        "colab_type": "code",
        "colab": {
          "base_uri": "https://localhost:8080/",
          "height": 54
        },
        "outputId": "d06e893c-7f09-4eea-e70b-d6e761e4dc66"
      },
      "source": [
        "data = pd.read_csv('/gdrive/My Drive/AAIC course/6.Apply Naive Bayes on Donors Choose dataset/preprocessed_data.csv',nrows=70000)\n",
        "print(\"Imported data\")\n",
        "print(data.shape)"
      ],
      "execution_count": 21,
      "outputs": [
        {
          "output_type": "stream",
          "text": [
            "Imported data\n",
            "(70000, 9)\n"
          ],
          "name": "stdout"
        }
      ]
    },
    {
      "cell_type": "markdown",
      "metadata": {
        "id": "WtVV13Fyb3dH",
        "colab_type": "text"
      },
      "source": [
        "<h2>1.2 Splitting data into Train and cross validation(or test): Stratified Sampling</h2>\n"
      ]
    },
    {
      "cell_type": "code",
      "metadata": {
        "id": "hQfJRKFPGAri",
        "colab_type": "code",
        "colab": {
          "base_uri": "https://localhost:8080/",
          "height": 54
        },
        "outputId": "9d6d5521-2d0f-47a3-aa14-5b75ab8b80db"
      },
      "source": [
        "from sklearn.model_selection import train_test_split\n",
        "\n",
        "feature_col = ['school_state','teacher_prefix','project_grade_category',\n",
        "               'clean_categories','clean_subcategories','teacher_number_of_previously_posted_projects',\n",
        "               'price']\n",
        " \n",
        "#Splitting data\n",
        "\n",
        "X_train, X_test, y_train, y_test = train_test_split(data[['essay']+feature_col], data['project_is_approved'], test_size=0.10, stratify=data['project_is_approved'])\n",
        "\n",
        "print(X_train.shape, y_train.shape)\n",
        "print(X_test.shape, y_test.shape)"
      ],
      "execution_count": 23,
      "outputs": [
        {
          "output_type": "stream",
          "text": [
            "(63000, 8) (63000,)\n",
            "(7000, 8) (7000,)\n"
          ],
          "name": "stdout"
        }
      ]
    },
    {
      "cell_type": "code",
      "metadata": {
        "id": "vd3kqeMCEAWD",
        "colab_type": "code",
        "colab": {
          "base_uri": "https://localhost:8080/",
          "height": 598
        },
        "outputId": "da9107df-89f5-4c8f-c8da-6e623e0f33d2"
      },
      "source": [
        "X_train"
      ],
      "execution_count": 24,
      "outputs": [
        {
          "output_type": "execute_result",
          "data": {
            "text/html": [
              "<div>\n",
              "<style scoped>\n",
              "    .dataframe tbody tr th:only-of-type {\n",
              "        vertical-align: middle;\n",
              "    }\n",
              "\n",
              "    .dataframe tbody tr th {\n",
              "        vertical-align: top;\n",
              "    }\n",
              "\n",
              "    .dataframe thead th {\n",
              "        text-align: right;\n",
              "    }\n",
              "</style>\n",
              "<table border=\"1\" class=\"dataframe\">\n",
              "  <thead>\n",
              "    <tr style=\"text-align: right;\">\n",
              "      <th></th>\n",
              "      <th>essay</th>\n",
              "      <th>school_state</th>\n",
              "      <th>teacher_prefix</th>\n",
              "      <th>project_grade_category</th>\n",
              "      <th>clean_categories</th>\n",
              "      <th>clean_subcategories</th>\n",
              "      <th>teacher_number_of_previously_posted_projects</th>\n",
              "      <th>price</th>\n",
              "    </tr>\n",
              "  </thead>\n",
              "  <tbody>\n",
              "    <tr>\n",
              "      <th>45285</th>\n",
              "      <td>my school k 8 science technology engineering m...</td>\n",
              "      <td>nc</td>\n",
              "      <td>mr</td>\n",
              "      <td>grades_6_8</td>\n",
              "      <td>appliedlearning</td>\n",
              "      <td>other</td>\n",
              "      <td>0</td>\n",
              "      <td>164.77</td>\n",
              "    </tr>\n",
              "    <tr>\n",
              "      <th>40446</th>\n",
              "      <td>my students tell story school pre recorded vid...</td>\n",
              "      <td>la</td>\n",
              "      <td>mrs</td>\n",
              "      <td>grades_6_8</td>\n",
              "      <td>math_science appliedlearning</td>\n",
              "      <td>appliedsciences charactereducation</td>\n",
              "      <td>5</td>\n",
              "      <td>987.23</td>\n",
              "    </tr>\n",
              "    <tr>\n",
              "      <th>14890</th>\n",
              "      <td>my second grade students enthusiastic learners...</td>\n",
              "      <td>tx</td>\n",
              "      <td>mrs</td>\n",
              "      <td>grades_prek_2</td>\n",
              "      <td>literacy_language math_science</td>\n",
              "      <td>literacy mathematics</td>\n",
              "      <td>4</td>\n",
              "      <td>284.91</td>\n",
              "    </tr>\n",
              "    <tr>\n",
              "      <th>31014</th>\n",
              "      <td>our community supportive school my students br...</td>\n",
              "      <td>wv</td>\n",
              "      <td>mrs</td>\n",
              "      <td>grades_9_12</td>\n",
              "      <td>math_science</td>\n",
              "      <td>appliedsciences environmentalscience</td>\n",
              "      <td>21</td>\n",
              "      <td>194.93</td>\n",
              "    </tr>\n",
              "    <tr>\n",
              "      <th>57360</th>\n",
              "      <td>my students diverse group musicians south san ...</td>\n",
              "      <td>ca</td>\n",
              "      <td>mr</td>\n",
              "      <td>grades_3_5</td>\n",
              "      <td>music_arts specialneeds</td>\n",
              "      <td>music specialneeds</td>\n",
              "      <td>0</td>\n",
              "      <td>89.99</td>\n",
              "    </tr>\n",
              "    <tr>\n",
              "      <th>...</th>\n",
              "      <td>...</td>\n",
              "      <td>...</td>\n",
              "      <td>...</td>\n",
              "      <td>...</td>\n",
              "      <td>...</td>\n",
              "      <td>...</td>\n",
              "      <td>...</td>\n",
              "      <td>...</td>\n",
              "    </tr>\n",
              "    <tr>\n",
              "      <th>63582</th>\n",
              "      <td>my students walk classroom every day ready lea...</td>\n",
              "      <td>mi</td>\n",
              "      <td>mrs</td>\n",
              "      <td>grades_prek_2</td>\n",
              "      <td>literacy_language math_science</td>\n",
              "      <td>literacy mathematics</td>\n",
              "      <td>0</td>\n",
              "      <td>365.08</td>\n",
              "    </tr>\n",
              "    <tr>\n",
              "      <th>47279</th>\n",
              "      <td>baywood elementary amazing safe environment st...</td>\n",
              "      <td>ca</td>\n",
              "      <td>mrs</td>\n",
              "      <td>grades_3_5</td>\n",
              "      <td>literacy_language math_science</td>\n",
              "      <td>literacy mathematics</td>\n",
              "      <td>0</td>\n",
              "      <td>436.97</td>\n",
              "    </tr>\n",
              "    <tr>\n",
              "      <th>59521</th>\n",
              "      <td>student engagement interactive learning main t...</td>\n",
              "      <td>ny</td>\n",
              "      <td>ms</td>\n",
              "      <td>grades_6_8</td>\n",
              "      <td>math_science</td>\n",
              "      <td>mathematics</td>\n",
              "      <td>2</td>\n",
              "      <td>286.89</td>\n",
              "    </tr>\n",
              "    <tr>\n",
              "      <th>58991</th>\n",
              "      <td>my kinder friends special my students strong d...</td>\n",
              "      <td>in</td>\n",
              "      <td>mrs</td>\n",
              "      <td>grades_prek_2</td>\n",
              "      <td>literacy_language math_science</td>\n",
              "      <td>literature_writing mathematics</td>\n",
              "      <td>0</td>\n",
              "      <td>1874.94</td>\n",
              "    </tr>\n",
              "    <tr>\n",
              "      <th>11342</th>\n",
              "      <td>this year fifth grade departmentalizing meanin...</td>\n",
              "      <td>ct</td>\n",
              "      <td>ms</td>\n",
              "      <td>grades_3_5</td>\n",
              "      <td>math_science literacy_language</td>\n",
              "      <td>appliedsciences literacy</td>\n",
              "      <td>18</td>\n",
              "      <td>127.37</td>\n",
              "    </tr>\n",
              "  </tbody>\n",
              "</table>\n",
              "<p>63000 rows × 8 columns</p>\n",
              "</div>"
            ],
            "text/plain": [
              "                                                   essay  ...    price\n",
              "45285  my school k 8 science technology engineering m...  ...   164.77\n",
              "40446  my students tell story school pre recorded vid...  ...   987.23\n",
              "14890  my second grade students enthusiastic learners...  ...   284.91\n",
              "31014  our community supportive school my students br...  ...   194.93\n",
              "57360  my students diverse group musicians south san ...  ...    89.99\n",
              "...                                                  ...  ...      ...\n",
              "63582  my students walk classroom every day ready lea...  ...   365.08\n",
              "47279  baywood elementary amazing safe environment st...  ...   436.97\n",
              "59521  student engagement interactive learning main t...  ...   286.89\n",
              "58991  my kinder friends special my students strong d...  ...  1874.94\n",
              "11342  this year fifth grade departmentalizing meanin...  ...   127.37\n",
              "\n",
              "[63000 rows x 8 columns]"
            ]
          },
          "metadata": {
            "tags": []
          },
          "execution_count": 24
        }
      ]
    },
    {
      "cell_type": "markdown",
      "metadata": {
        "id": "EnZwVNULb3dO",
        "colab_type": "text"
      },
      "source": [
        "<h2>1.3 Make Data Model Ready: encoding eassay, and project_title</h2>"
      ]
    },
    {
      "cell_type": "markdown",
      "metadata": {
        "id": "Qxx0G-HceKEs",
        "colab_type": "text"
      },
      "source": [
        "<h3>BAG of Words And TFIDF of essay column\n"
      ]
    },
    {
      "cell_type": "code",
      "metadata": {
        "id": "wk-hsUwpkPD8",
        "colab_type": "code",
        "colab": {
          "base_uri": "https://localhost:8080/",
          "height": 147
        },
        "outputId": "9ee6cf47-5602-4a2a-f0f8-0ebd7a969bfe"
      },
      "source": [
        "# fit\n",
        "count_vectorizer = CountVectorizer(min_df=10,ngram_range=(1,6), max_features=600)\n",
        "count_vectorizer.fit(X_train['essay'].values)\n",
        "# fit\n",
        "tfidf_vectorizer = TfidfVectorizer(min_df=10,max_features=250)\n",
        "tfidf_vectorizer.fit(X_train['essay'].values) \n",
        "\n"
      ],
      "execution_count": 12,
      "outputs": [
        {
          "output_type": "execute_result",
          "data": {
            "text/plain": [
              "TfidfVectorizer(analyzer='word', binary=False, decode_error='strict',\n",
              "                dtype=<class 'numpy.float64'>, encoding='utf-8',\n",
              "                input='content', lowercase=True, max_df=1.0, max_features=250,\n",
              "                min_df=10, ngram_range=(1, 1), norm='l2', preprocessor=None,\n",
              "                smooth_idf=True, stop_words=None, strip_accents=None,\n",
              "                sublinear_tf=False, token_pattern='(?u)\\\\b\\\\w\\\\w+\\\\b',\n",
              "                tokenizer=None, use_idf=True, vocabulary=None)"
            ]
          },
          "metadata": {
            "tags": []
          },
          "execution_count": 12
        }
      ]
    },
    {
      "cell_type": "code",
      "metadata": {
        "id": "yjYiQV-Wdjqy",
        "colab_type": "code",
        "colab": {
          "base_uri": "https://localhost:8080/",
          "height": 166
        },
        "outputId": "dee0148d-9c6b-4358-d270-29c42be53e09"
      },
      "source": [
        "\n",
        "\n",
        "# Below Lists contains all processed data\n",
        "X_train_pro_list  = []\n",
        "X_test_pro_list = []\n",
        "\n",
        "\n",
        "\n",
        "# transform and store at 0th index in processed array\n",
        "X_train_pro_list.append(count_vectorizer.transform(X_train['essay'].values))\n",
        "X_test_pro_list.append(count_vectorizer.transform(X_test['essay'].values))\n",
        "\n",
        "\n",
        "\n",
        "# transform and store at 1st index in processed array\n",
        "X_train_pro_list.append(tfidf_vectorizer.transform(X_train['essay'].values))\n",
        "X_test_pro_list.append(tfidf_vectorizer.transform(X_test['essay'].values))\n",
        "\n",
        "\n",
        "\n",
        "print(\"After vectorizations BOW\")\n",
        "#print(X_train[\"essay_bow\"].shape, y_train.shape)\n",
        "print(X_train_pro_list[-2].shape, y_train.shape)\n",
        "print(X_test_pro_list[-2].shape, y_test.shape)\n",
        "print(\"-\"*100)\n",
        "\n",
        "\n",
        "print(\"After vectorizations TFIDF\")\n",
        "print(X_train_pro_list[-1].shape, y_train.shape)\n",
        "print(X_test_pro_list[-1].shape, y_test.shape)\n",
        "print(\"-\"*100)\n",
        "\n"
      ],
      "execution_count": 25,
      "outputs": [
        {
          "output_type": "stream",
          "text": [
            "After vectorizations BOW\n",
            "(63000, 600) (63000,)\n",
            "(7000, 600) (7000,)\n",
            "----------------------------------------------------------------------------------------------------\n",
            "After vectorizations TFIDF\n",
            "(63000, 250) (63000,)\n",
            "(7000, 250) (7000,)\n",
            "----------------------------------------------------------------------------------------------------\n"
          ],
          "name": "stdout"
        }
      ]
    },
    {
      "cell_type": "markdown",
      "metadata": {
        "id": "bGy86kgHb3dX",
        "colab_type": "text"
      },
      "source": [
        "<h2>1.4 Make Data Model Ready: encoding numerical, categorical features</h2>"
      ]
    },
    {
      "cell_type": "markdown",
      "metadata": {
        "id": "3vP2mzkZNzv3",
        "colab_type": "text"
      },
      "source": [
        "<h3>1.4.1 Encode categorical features</h3>"
      ]
    },
    {
      "cell_type": "code",
      "metadata": {
        "id": "HLqpxFRrOaIN",
        "colab_type": "code",
        "colab": {
          "base_uri": "https://localhost:8080/",
          "height": 166
        },
        "outputId": "dea22a14-b7a2-4208-ed5b-add87b6a1cfc"
      },
      "source": [
        "\n",
        "col_for_CountVectorizer = ['school_state','teacher_prefix','project_grade_category','clean_categories','clean_subcategories']\n",
        "CountVectorizer_for_col = {}\n",
        "for col in col_for_CountVectorizer:\n",
        "  print(col)\n",
        "  vectorizer = CountVectorizer()\n",
        "  vectorizer.fit(X_train[col].values) # fit has to happen only on train data\n",
        "\n",
        "  CountVectorizer_for_col[col]=vectorizer\n",
        "  # we use the fitted CountVectorizer to convert the text to vector\n",
        "  X_train_pro_list.append(vectorizer.transform(X_train[col].values))\n",
        "\n",
        "  X_test_pro_list.append(vectorizer.transform(X_test[col].values))\n",
        "\n",
        "  \n",
        "# convert teacher_number_of_previously_posted_projects int -> str -> count Vect\n",
        "'''\n",
        "col = 'teacher_number_of_previously_posted_projects'\n",
        "vectorizer = CountVectorizer()\n",
        "vectorizer.fit(X_train[col].astype(str).values) # fit has to happen only on train data\n",
        "\n",
        "CountVectorizer_for_col[col] = vectorizer\n",
        "\n",
        "\n",
        "X_train_pro_list.append(vectorizer.transform(X_train[col].astype(str).values))#.toarray()\n",
        "X_test_pro_list.append(vectorizer.transform(X_test[col].astype(str).values))#.toarray()\n",
        "\n",
        "\n",
        "'''"
      ],
      "execution_count": 14,
      "outputs": [
        {
          "output_type": "stream",
          "text": [
            "school_state\n",
            "teacher_prefix\n",
            "project_grade_category\n",
            "clean_categories\n",
            "clean_subcategories\n"
          ],
          "name": "stdout"
        },
        {
          "output_type": "execute_result",
          "data": {
            "application/vnd.google.colaboratory.intrinsic+json": {
              "type": "string"
            },
            "text/plain": [
              "\"\\ncol = 'teacher_number_of_previously_posted_projects'\\nvectorizer = CountVectorizer()\\nvectorizer.fit(X_train[col].astype(str).values) # fit has to happen only on train data\\n\\nCountVectorizer_for_col[col] = vectorizer\\n\\n\\nX_train_pro_list.append(vectorizer.transform(X_train[col].astype(str).values))#.toarray()\\nX_test_pro_list.append(vectorizer.transform(X_test[col].astype(str).values))#.toarray()\\n\\n\\n\""
            ]
          },
          "metadata": {
            "tags": []
          },
          "execution_count": 14
        }
      ]
    },
    {
      "cell_type": "markdown",
      "metadata": {
        "id": "flCmY2kbZ09n",
        "colab_type": "text"
      },
      "source": [
        "<h3>1.4.2 Encode numerical valued features</h3>\n"
      ]
    },
    {
      "cell_type": "code",
      "metadata": {
        "id": "ya1fzHGWZ0hh",
        "colab_type": "code",
        "colab": {
          "base_uri": "https://localhost:8080/",
          "height": 166
        },
        "outputId": "7bbf55af-0f7b-4211-99c2-bea1ff37d62d"
      },
      "source": [
        "from sklearn.preprocessing import Normalizer\n",
        "\n",
        "# convert teacher_number_of_previously_posted_projects int -> Normalised values between 0,1\n",
        "col = 'teacher_number_of_previously_posted_projects'\n",
        "normalizer = Normalizer()\n",
        "normalizer.fit(X_train[col].values.reshape(1,-1))\n",
        "\n",
        "X_train_pro_list.append(normalizer.transform(X_train[col].values.reshape(1,-1)).reshape(-1,1))\n",
        "\n",
        "X_test_pro_list.append(normalizer.transform(X_test[col].values.reshape(1,-1)).reshape(-1,1))\n",
        "\n",
        "print(\"After teacher_number_of_previously_posted_projects normailzation\")\n",
        "print(X_train_pro_list[-1].shape, y_train.shape)\n",
        "\n",
        "print(X_test_pro_list[-1].shape, y_test.shape)\n",
        "print(\"-\"*100)\n",
        "\n",
        "\n",
        "# Normalize price\n",
        "\n",
        "\n",
        "col = 'price'\n",
        "normalizer = Normalizer()\n",
        "normalizer.fit(X_train[col].values.reshape(1,-1))\n",
        "\n",
        "X_train_pro_list.append(normalizer.transform(X_train[col].values.reshape(1,-1)).reshape(-1,1))\n",
        "\n",
        "X_test_pro_list.append(normalizer.transform(X_test[col].values.reshape(1,-1)).reshape(-1,1))\n",
        "\n",
        "print(\"After price normailzation\")\n",
        "print(X_train_pro_list[-1].shape, y_train.shape)\n",
        "\n",
        "print(X_test_pro_list[-1].shape, y_test.shape)\n",
        "print(\"-\"*100)"
      ],
      "execution_count": 15,
      "outputs": [
        {
          "output_type": "stream",
          "text": [
            "After teacher_number_of_previously_posted_projects normailzation\n",
            "(72000, 1) (72000,)\n",
            "(8000, 1) (8000,)\n",
            "----------------------------------------------------------------------------------------------------\n",
            "After price normailzation\n",
            "(72000, 1) (72000,)\n",
            "(8000, 1) (8000,)\n",
            "----------------------------------------------------------------------------------------------------\n"
          ],
          "name": "stdout"
        }
      ]
    },
    {
      "cell_type": "code",
      "metadata": {
        "id": "S7FrAz6Quhlr",
        "colab_type": "code",
        "colab": {
          "base_uri": "https://localhost:8080/",
          "height": 203
        },
        "outputId": "b81b7e95-e61d-4546-80da-aef035250205"
      },
      "source": [
        "all_col = []\n",
        "for item in range(len(X_train_pro_list)):\n",
        "  print(X_train_pro_list[item].shape)\n",
        "  all_col.append(X_train_pro_list[item].shape[1])\n",
        "\n",
        "# column range \n",
        "column_range_tfidf = np.cumsum(all_col[1:])\n",
        "column_range = np.cumsum([all_col[0]]+all_col[2:])\n",
        "column_range"
      ],
      "execution_count": 16,
      "outputs": [
        {
          "output_type": "stream",
          "text": [
            "(72000, 600)\n",
            "(72000, 250)\n",
            "(72000, 51)\n",
            "(72000, 5)\n",
            "(72000, 4)\n",
            "(72000, 9)\n",
            "(72000, 30)\n",
            "(72000, 1)\n",
            "(72000, 1)\n"
          ],
          "name": "stdout"
        },
        {
          "output_type": "execute_result",
          "data": {
            "text/plain": [
              "array([600, 651, 656, 660, 669, 699, 700, 701])"
            ]
          },
          "metadata": {
            "tags": []
          },
          "execution_count": 16
        }
      ]
    },
    {
      "cell_type": "markdown",
      "metadata": {
        "id": "yYHPYadYb3dh",
        "colab_type": "text"
      },
      "source": [
        "<h2>1.5 Appling NB on different kind of featurization as mentioned in the instructions</h2>\n",
        "\n",
        "<br>Apply NB on different kind of featurization as mentioned in the instructions\n",
        "<br> For Every model that you work on make sure you do the step 2 and step 3 of instrucations"
      ]
    },
    {
      "cell_type": "markdown",
      "metadata": {
        "id": "KoxEEPV3jovT",
        "colab_type": "text"
      },
      "source": [
        "<h2> HyperParameter tuning"
      ]
    },
    {
      "cell_type": "markdown",
      "metadata": {
        "id": "GZr9NuGjc0ML",
        "colab_type": "text"
      },
      "source": [
        "\n",
        "  <h4> Set 1: categorical, numerical features + preprocessed_eassay (BOW)"
      ]
    },
    {
      "cell_type": "code",
      "metadata": {
        "id": "z_U3xcoWZ0R-",
        "colab_type": "code",
        "colab": {
          "base_uri": "https://localhost:8080/",
          "height": 295
        },
        "outputId": "d8594314-8d61-4efe-a05c-31c263d641db"
      },
      "source": [
        "\n",
        "# Stacking all csr matrix in one\n",
        "# X_train_pro_list[0] --> BOW encoding\n",
        "# X_train_pro_list[1] --> TFIDF encoding\n",
        "\n",
        "_X_train_pro_list = hstack(np.array([X_train_pro_list[0]]+X_train_pro_list[2:]))\n",
        "_X_test_pro_list = hstack(np.array([X_test_pro_list[0]]+X_test_pro_list[2:]))\n",
        "\n",
        "\n",
        "#Clf dict\n",
        "\n",
        "model = {}\n",
        "best_alpha = {}\n",
        "best_auroc = {}\n",
        "\n",
        "alpha_param = []\n",
        "lower_limit = 10e-6\n",
        "upper_limit = 150\n",
        "while lower_limit<=upper_limit:\n",
        "  alpha_param.append(lower_limit)\n",
        "  lower_limit = lower_limit * 5\n",
        "\n",
        "\n",
        "parameters = {'alpha':alpha_param}\n",
        "model['mnb'] = MultinomialNB(class_prior = [0.6, 0.4] )\n",
        "\n",
        "model['mnb']  = GridSearchCV(model['mnb'], parameters, cv=6, scoring='roc_auc',return_train_score=True)\n",
        "\n",
        "\n",
        "model['mnb'] .fit(_X_train_pro_list, y_train)\n",
        "\n",
        "#predictions\n",
        "results = pd.DataFrame.from_dict(model['mnb'].cv_results_)\n",
        "results = results.sort_values(['param_alpha'])\n",
        "\n",
        "train_auc= results['mean_train_score']\n",
        "train_auc_std= results['std_train_score']\n",
        "cv_auc = results['mean_test_score'] \n",
        "cv_auc_std= results['std_test_score']\n",
        "K =  list(results['param_alpha'])\n",
        "\n",
        "best_alpha[\"MultinomialNB_BOW\"] = K[train_auc.idxmax()]\n",
        "best_auroc[\"MultinomialNB_BOW\"] = train_auc.max()\n",
        "\n",
        "K_log = np.log(K)\n",
        "\n",
        "plt.plot(K_log, train_auc, label='Train AUC')\n",
        "\n",
        "plt.plot(K_log, cv_auc, label='test AUC')\n",
        "\n",
        "plt.scatter(K_log, train_auc, label='Train AUC points')\n",
        "plt.scatter(K_log, cv_auc, label='CV AUC points')\n",
        "plt.scatter([best_alpha[\"MultinomialNB_BOW\"]],[train_auc.max()],label='Score:%.3f'%(train_auc.max()))\n",
        "\n",
        "\n",
        "plt.legend()\n",
        "plt.xlabel(\"Alpha\")\n",
        "plt.ylabel(\"AUC\")\n",
        "plt.title(\"Hyper parameter Vs AUC plot\")\n",
        "plt.grid()\n",
        "plt.show()\n",
        "\n",
        "#results.head()"
      ],
      "execution_count": 26,
      "outputs": [
        {
          "output_type": "display_data",
          "data": {
            "image/png": "[encoded data removed]",
            "text/plain": [
              "<Figure size 432x288 with 1 Axes>"
            ]
          },
          "metadata": {
            "tags": [],
            "needs_background": "light"
          }
        }
      ]
    },
    {
      "cell_type": "code",
      "metadata": {
        "id": "iEDNnIm660ua",
        "colab_type": "code",
        "colab": {
          "base_uri": "https://localhost:8080/",
          "height": 295
        },
        "outputId": "e8313629-f8f5-4475-9eba-2e75bf400a59"
      },
      "source": [
        "# AUC ROC Curve\n",
        "\n",
        "# model['mnb'] = MultinomialNB(alpha = best_alpha[\"MultinomialNB_BOW\"],class_prior = [0.5, 0.5] )\n",
        "mnb_bow = model['mnb'].best_estimator_\n",
        "mnb_bow.fit(_X_train_pro_list, y_train)\n",
        "\n",
        "\n",
        "y_train_pred = mnb_bow.predict(_X_train_pro_list)    \n",
        "y_test_pred = mnb_bow.predict(_X_test_pro_list)\n",
        "\n",
        "train_fpr, train_tpr, tr_thresholds = roc_curve(y_train, y_train_pred)\n",
        "test_fpr, test_tpr, te_thresholds = roc_curve(y_test, y_test_pred)\n",
        "\n",
        "best_alpha[\"MultinomialNB_BOW\"] = mnb_bow.alpha\n",
        "best_auroc[\"MultinomialNB_BOW\"] = auc(test_fpr, test_tpr)\n",
        "\n",
        "plt.plot(train_fpr, train_tpr, label=\"train AUC =\"+str(auc(train_fpr, train_tpr)))\n",
        "plt.plot(test_fpr, test_tpr, label=\"test AUC =\"+str(auc(test_fpr, test_tpr)))\n",
        "plt.plot([0,1],[0,1],label= \"Random\")\n",
        "plt.legend()\n",
        "plt.xlabel(\"Alpha\")\n",
        "plt.ylabel(\"AUC\")\n",
        "plt.title(\"ERROR PLOTS\")\n",
        "plt.grid()\n",
        "plt.show()"
      ],
      "execution_count": 18,
      "outputs": [
        {
          "output_type": "display_data",
          "data": {
            "image/png": "[encoded data removed]",
            "text/plain": [
              "<Figure size 432x288 with 1 Axes>"
            ]
          },
          "metadata": {
            "tags": [],
            "needs_background": "light"
          }
        }
      ]
    },
    {
      "cell_type": "code",
      "metadata": {
        "id": "Xy2hz4_15o_v",
        "colab_type": "code",
        "colab": {}
      },
      "source": [
        "# we are writing our own function for predict, with defined thresould\n",
        "# we will pick a threshold that will give the least fpr\n",
        "def find_best_threshold(threshould, fpr, tpr):\n",
        "    t = threshould[np.argmax(tpr*(1-fpr))]\n",
        "    # (tpr*(1-fpr)) will be maximum if your fpr is very low and tpr is very high\n",
        "    print(\"the maximum value of tpr*(1-fpr)\", max(tpr*(1-fpr)), \"for threshold\", np.round(t,3))\n",
        "    return t\n",
        "\n",
        "def predict_with_best_t(proba, threshould):\n",
        "    predictions = []\n",
        "    for i in proba:\n",
        "        if i>=threshould:\n",
        "            predictions.append(1)\n",
        "        else:\n",
        "            predictions.append(0)\n",
        "    return predictions\n",
        "\n",
        "import seaborn as sns\n",
        "import matplotlib.pyplot as plt     \n",
        "\n",
        "# Confusion matrix \n",
        "print(\"=\"*100)\n",
        "from sklearn.metrics import confusion_matrix\n",
        "best_t = find_best_threshold(tr_thresholds, train_fpr, train_tpr)\n",
        "\n",
        "print(\"Test confusion matrix\")\n",
        "sns.heatmap(confusion_matrix(y_test, predict_with_best_t(y_test_pred, best_t)),linewidths=.5,cmap=\"YlGnBu\", annot=True,fmt=\"d\")"
      ],
      "execution_count": null,
      "outputs": []
    },
    {
      "cell_type": "markdown",
      "metadata": {
        "id": "SIj-wB9ScBTx",
        "colab_type": "text"
      },
      "source": [
        "\n",
        "<h4>Set 2: categorical, numerical features + preprocessed_eassay (TFIDF)\n",
        "    \n"
      ]
    },
    {
      "cell_type": "code",
      "metadata": {
        "id": "DNwqilFxb3di",
        "colab_type": "code",
        "colab": {}
      },
      "source": [
        "# https://scikit-learn.org/stable/modules/generated/sklearn.model_selection.GridSearchCV.html\n",
        " \n",
        "# Stacking all csr matrix in one\n",
        "# X_train_pro_list[0] --> BOW encoding\n",
        "# X_train_pro_list[1] --> TFIDF encoding\n",
        "\n",
        "_X_train_pro_list = hstack(np.array(X_train_pro_list[1:]))\n",
        "_X_test_pro_list = hstack(np.array(X_test_pro_list[1:]))\n",
        "\n",
        "\n",
        "\n",
        "#Clf dict\n",
        "\n",
        "model['mnb_tfidf'] = MultinomialNB(class_prior = [0.6, 0.4] )\n",
        "\n",
        "parameters = {'alpha':alpha_param}\n",
        "\n",
        "model['mnb_tfidf'] = GridSearchCV(model['mnb_tfidf'], parameters, cv=6, scoring='roc_auc',return_train_score=True)\n",
        "\n",
        "# essay columns as Tfidf -> essay_tfidf\n",
        "model['mnb_tfidf'].fit(_X_train_pro_list, y_train)\n",
        "\n",
        "\n",
        "#predictions\n",
        "\n",
        "results = pd.DataFrame.from_dict(model['mnb_tfidf'].cv_results_)\n",
        "results = results.sort_values(['param_alpha'])\n",
        "\n",
        "train_auc= results['mean_train_score']\n",
        "train_auc_std= results['std_train_score']\n",
        "cv_auc = results['mean_test_score'] \n",
        "cv_auc_std= results['std_test_score']\n",
        "K = list(results['param_alpha'])\n",
        "\n",
        "\n",
        "best_alpha[\"MultinomialNB_TFIDF\"] = K[train_auc.idxmax()]\n",
        "best_auroc[\"MultinomialNB_TFIDF\"] = train_auc.max()\n",
        "\n",
        "K_log = np.log(K)\n",
        "\n",
        "plt.plot(K_log, train_auc, label='Train AUC')\n",
        "\n",
        "plt.plot(K_log, cv_auc, label='Test AUC')\n",
        "\n",
        "plt.scatter( K_log, train_auc, label='Train AUC points')\n",
        "plt.scatter(K_log, cv_auc, label='Test AUC points')\n",
        "plt.scatter([best_alpha[\"MultinomialNB_TFIDF\"]],[train_auc.max()],label='train:%.3f'%(train_auc.max()))\n",
        "\n",
        "plt.legend()\n",
        "plt.xlabel(\"Alpha\")\n",
        "plt.ylabel(\"AUC\")\n",
        "plt.title(\"Hyper parameter Vs AUC plot\")\n",
        "plt.grid()\n",
        "plt.show()\n"
      ],
      "execution_count": null,
      "outputs": []
    },
    {
      "cell_type": "code",
      "metadata": {
        "id": "26rFdZRU3gml",
        "colab_type": "code",
        "colab": {}
      },
      "source": [
        "# https://scikit-learn.org/stable/modules/generated/sklearn.metrics.roc_curve.html#sklearn.metrics.roc_curve\n",
        "\n",
        "mnb_tfidf =  model['mnb_tfidf'].best_estimator_\n",
        "mnb_tfidf.fit(_X_train_pro_list, y_train)\n",
        "\n",
        "\n",
        "y_train_pred = mnb_tfidf.predict(_X_train_pro_list)    \n",
        "y_test_pred = mnb_tfidf.predict(_X_test_pro_list)\n",
        "\n",
        "train_fpr, train_tpr, tr_thresholds = roc_curve(y_train, y_train_pred)\n",
        "test_fpr, test_tpr, te_thresholds = roc_curve(y_test, y_test_pred)\n",
        "\n",
        "best_alpha[\"MultinomialNB_TFIDF\"] = mnb_tfidf.alpha\n",
        "best_auroc[\"MultinomialNB_TFIDF\"] = auc(test_fpr, test_tpr)\n",
        "\n",
        "\n",
        "\n",
        "plt.plot(train_fpr, train_tpr, label=\"train AUC =\"+str(auc(train_fpr, train_tpr)))\n",
        "plt.plot(test_fpr, test_tpr, label=\"test AUC =\"+str(auc(test_fpr, test_tpr)))\n",
        "plt.plot([0,1],[0,1],label= \"Random\")\n",
        "plt.legend()\n",
        "plt.xlabel(\"Alpha\")\n",
        "plt.ylabel(\"AUC\")\n",
        "plt.title(\"ERROR PLOTS\")\n",
        "plt.grid()\n",
        "plt.show()"
      ],
      "execution_count": null,
      "outputs": []
    },
    {
      "cell_type": "code",
      "metadata": {
        "id": "ZMhCntOa6Lt7",
        "colab_type": "code",
        "colab": {}
      },
      "source": [
        "best_t = find_best_threshold(tr_thresholds, train_fpr, train_tpr)\n",
        "\n",
        "print(\"Test confusion matrix\")\n",
        "sns.heatmap(confusion_matrix(y_test, predict_with_best_t(y_test_pred, best_t)),linewidths=.5,cmap=\"YlGnBu\", annot=True,fmt=\"d\")"
      ],
      "execution_count": null,
      "outputs": []
    },
    {
      "cell_type": "markdown",
      "metadata": {
        "id": "yn-0-S1qxb6S",
        "colab_type": "text"
      },
      "source": [
        "<h3>1.6 Best parameter model"
      ]
    },
    {
      "cell_type": "code",
      "metadata": {
        "id": "ZM-MJlj5vRBC",
        "colab_type": "code",
        "colab": {}
      },
      "source": [
        "# credit: https://stackoverflow.com/questions/50526898/how-to-get-feature-importance-in-naive-bayes\n",
        "# Set 1 BOW features \n",
        "# array([400, 451, 456, 460, 469, 499, 758, 759])\n",
        "l = []\n",
        "l_neg = []\n",
        "\n",
        "\n",
        "pos_class_prob_sorted = mnb_bow.feature_log_prob_[1].argsort()\n",
        "neg_class_prob_sorted = mnb_bow.feature_log_prob_[0].argsort()\n",
        "\n",
        "\n",
        "top_20_Neg_features = neg_class_prob_sorted[-20:]\n",
        "top_20_features = pos_class_prob_sorted[-20:]\n",
        "\n",
        "#print(\"Positive class : Max Encoded : %d,  Min Encoded: %d\"%(top_20_features.max(),top_20_features.min()))\n",
        "#print(\"Negative class : Max Encoded : %d,  Min Encoded: %d\"%(top_20_Neg_features.max(),top_20_Neg_features.min()))\n",
        "#print(column_range)\n",
        "\n",
        "col_for_CountVectorizer.append('teacher_number_of_previously_posted_projects')\n",
        "\n",
        "for item in top_20_features:\n",
        "  base = column_range[0]\n",
        "  if item < base:\n",
        "    l.append(count_vectorizer.get_feature_names()[item])\n",
        "  elif item >  column_range[-2]:\n",
        "    l.append(\"*PRICE\")\n",
        "  else:\n",
        "      \n",
        "    feature_index = 1\n",
        "    while item >= column_range[feature_index]: \n",
        "      \n",
        "      base = column_range[feature_index]\n",
        "      feature_index+=1\n",
        "\n",
        "    #print(CountVectorizer_for_col)\n",
        "    l.append(CountVectorizer_for_col[col_for_CountVectorizer[feature_index-1]].get_feature_names()[item-base])\n",
        "\n",
        "for item in top_20_Neg_features:\n",
        "  base = column_range[0]\n",
        "  if item < base:\n",
        "    l_neg.append(count_vectorizer.get_feature_names()[item])\n",
        "  elif item >  column_range[-2]:\n",
        "    l_neg.append(\"*PRICE\")\n",
        "  elif item >  column_range[-3]:\n",
        "    l_neg.append(\"*teacher_number_of_previously_posted_projects\")\n",
        "  else:\n",
        "      \n",
        "    feature_index = 1\n",
        "    while item >= column_range[feature_index]: \n",
        "      \n",
        "      base = column_range[feature_index]\n",
        "      feature_index+=1\n",
        "\n",
        "    #print(CountVectorizer_for_col)\n",
        "    l_neg.append(CountVectorizer_for_col[col_for_CountVectorizer[feature_index-1]].get_feature_names()[item-base])\n",
        "\n",
        "\n",
        "print(\"Top 20 Positive Features:\")\n",
        "print(l)\n",
        "\n",
        "\n",
        "print(\"Top 20 Negative Features:\")\n",
        "print(l_neg)\n"
      ],
      "execution_count": null,
      "outputs": []
    },
    {
      "cell_type": "markdown",
      "metadata": {
        "id": "lS9hIHdib3dp",
        "colab_type": "text"
      },
      "source": [
        "<h1>3. Summary</h1>\n",
        "\n",
        "<br> as mentioned in the step 5 of instructions"
      ]
    },
    {
      "cell_type": "code",
      "metadata": {
        "id": "PjS_nEG75qLY",
        "colab_type": "code",
        "colab": {}
      },
      "source": [
        "from tabulate import tabulate\n",
        "header = [\"Vectorizer\",\"Model\",\"Hyper Parameter\",\"AUROC\"]\n",
        "table = [[item[0][0].split('_')[1],item[0][0].split('_')[0],item[0][1],round(item[1],2)] for item in zip(best_alpha.items(),best_auroc.values())]\n",
        "print(tabulate(table, headers=header))\n"
      ],
      "execution_count": null,
      "outputs": []
    },
    {
      "cell_type": "markdown",
      "metadata": {
        "id": "Wf1yzHag9VuS",
        "colab_type": "text"
      },
      "source": [
        "**THE END**"
      ]
    }
  ]
}